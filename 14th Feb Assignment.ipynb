{
 "cells": [
  {
   "cell_type": "markdown",
   "id": "9b39361a",
   "metadata": {},
   "source": [
    "### Q1. What is multithreading in python? Why is it used? Name the module used to handle threads in python."
   ]
  },
  {
   "cell_type": "markdown",
   "id": "64354f8c",
   "metadata": {},
   "source": [
    "#### Ans:\n",
    "Multithreading in Python refers to the ability of a program to execute multiple threads of execution concurrently.\n",
    "Multithreading is used to improve the performance of a program by utilizing the available CPU resources more efficiently.\n",
    "\n",
    "Multithreading is particularly useful in applications that involve I/O operations or long-running tasks, such as web servers or data processing applications. By allowing multiple threads to execute concurrently, these applications can handle more requests and process data faster.\n",
    "\n",
    "Multithreading is handled by the **threading module**"
   ]
  },
  {
   "cell_type": "markdown",
   "id": "6e694018",
   "metadata": {},
   "source": [
    "### Q2. Why threading module used? Write the use of the following functions:\n",
    "**1. activeCount()**</br>\n",
    "**2. currentThread()**</br>\n",
    "**3. enumerate()**"
   ]
  },
  {
   "cell_type": "markdown",
   "id": "b2ea851d",
   "metadata": {},
   "source": [
    "#### Ans:\n",
    "The threading module is used in Python to create and manage threads. It provides a simple and intuitive way to start, stop, and manage multiple threads of execution within a program.\n",
    "\n",
    "1. activeCount(): This function returns the number of threads that are currently active and running in the program.\n",
    "\n",
    "2. currentThread(): This function returns a reference to the currently executing thread object.\n",
    "\n",
    "3. enumerate(): This function returns a list of all thread objects that are currently active in the program."
   ]
  },
  {
   "cell_type": "markdown",
   "id": "e8041d37",
   "metadata": {},
   "source": [
    "### Q3. Explain the following functions:\n",
    "**1. run()**</br>\n",
    "**2. start()**</br>\n",
    "**3. join()**</br>\n",
    "**4. isAlive()**"
   ]
  },
  {
   "cell_type": "markdown",
   "id": "4692bb01",
   "metadata": {},
   "source": [
    "#### Ans:\n",
    "\n",
    "1. run(): This method represents the main activity of the thread. We need to override this method to efine the work the thread will perform. When the start() method is called on a thread object, the run() method is executed in a separate thread of execution.\n",
    "\n",
    "2. start(): This method starts the thread by calling the run() method in a separate thread of execution. Once the thread has started, it will continue to run until the run() method is complete.\n",
    "\n",
    "3. join(): This method waits for the thread to complete its execution. When we call the join() method on a thread object, the calling thread is blocked until the target thread has finished executing. This can be useful for synchronizing the execution of multiple threads or for waiting for a specific thread to complete before continuing with the main program.\n",
    "\n",
    "4. isAlive(): This method returns a Boolean value indicating whether the thread is currently running or not. When we create a new thread object, it is initially in a non-running state. Once we call the start() method, the thread enters a running state, and the isAlive() method will return True. When the thread has finished executing, the isAlive() method will return False."
   ]
  },
  {
   "cell_type": "markdown",
   "id": "20949d42",
   "metadata": {},
   "source": [
    "### Q4. Write a python program to create two threads. Thread one must print the list of squares and thread two must print the list of cubes."
   ]
  },
  {
   "cell_type": "code",
   "execution_count": 1,
   "id": "50d8174c",
   "metadata": {},
   "outputs": [],
   "source": [
    "import threading\n",
    "\n",
    "def squares(x):\n",
    "    print(x**2)\n",
    "    \n",
    "def cubes(x):\n",
    "    print(x**3)\n",
    "\n",
    "thread1 = [threading.Thread(target= squares, args=(i,)) for i in range(10)]\n",
    "\n",
    "thread2 = [threading.Thread(target= cubes , args=(i,)) for i in range(10)]"
   ]
  },
  {
   "cell_type": "code",
   "execution_count": 2,
   "id": "5187f791",
   "metadata": {},
   "outputs": [
    {
     "name": "stdout",
     "output_type": "stream",
     "text": [
      "0\n",
      "1\n",
      "4\n",
      "9\n",
      "16\n",
      "25\n",
      "36\n",
      "49\n",
      "64\n",
      "81\n"
     ]
    }
   ],
   "source": [
    "for t in thread1:\n",
    "    t.start()"
   ]
  },
  {
   "cell_type": "code",
   "execution_count": 3,
   "id": "a3b0e8c2",
   "metadata": {},
   "outputs": [
    {
     "name": "stdout",
     "output_type": "stream",
     "text": [
      "0\n",
      "1\n",
      "8\n",
      "27\n",
      "64\n",
      "125\n",
      "216\n",
      "343\n",
      "512\n",
      "729\n"
     ]
    }
   ],
   "source": [
    "for t in thread2:\n",
    "    t.start()"
   ]
  },
  {
   "cell_type": "markdown",
   "id": "24fc0659",
   "metadata": {},
   "source": [
    "### Q5. State advantages and disadvantages of multithreading."
   ]
  },
  {
   "cell_type": "markdown",
   "id": "75863fae",
   "metadata": {},
   "source": [
    "#### Advantages:\n",
    "\n",
    "1. Improved performance: Multithreading can improve the performance of an application by allowing it to make use of multiple processors or CPU cores. This can speed up the execution of the program and make it more responsive to user input.\n",
    "\n",
    "2. Simplified programming: Multithreading can simplify the programming of complex applications by allowing different parts of the program to run concurrently without interfering with each other. This can make it easier to write and maintain large, complex programs.\n",
    "\n",
    "3. Resource sharing: Multithreading can allow multiple threads to share resources, such as memory or I/O devices, without interfering with each other. This can reduce the amount of memory or other resources needed by the application and improve its efficiency.\n"
   ]
  },
  {
   "cell_type": "markdown",
   "id": "47e7ca14",
   "metadata": {},
   "source": [
    "#### Disadvantages:\n",
    "\n",
    "1. Synchronization issues: Multithreading can lead to synchronization issues, where multiple threads try to access the same resource at the same time, resulting in race conditions or deadlocks.\n",
    "\n",
    "2. Overhead: Multithreading can introduce overhead, since each thread requires its own stack and other resources. This can increase the memory usage and slow down the execution of the program.\n",
    "\n",
    "3. Hard to scale: It can be difficult to scale multithreaded applications to take advantage of more processors or cores, since the performance gains are not always linear and can depend on the specific hardware and workload."
   ]
  },
  {
   "cell_type": "markdown",
   "id": "00d99de9",
   "metadata": {},
   "source": [
    "### Q6. Explain deadlocks and race conditions."
   ]
  },
  {
   "cell_type": "markdown",
   "id": "621e346e",
   "metadata": {},
   "source": [
    "Deadlocks and race conditions are two common concurrency problems that can occur in multithreaded programming.\n",
    "\n",
    "**Deadlock:**\n",
    "A deadlock is a situation where two or more threads are blocked, waiting for each other to release resources that they need in order to proceed. Deadlocks can occur when threads acquire locks on resources in a different order, resulting in a circular dependency. For example, Thread A may hold a lock on Resource 1 and need to acquire a lock on Resource 2, while Thread B holds a lock on Resource 2 and needs to acquire a lock on Resource 1. In this situation, both threads are blocked and cannot proceed.\n",
    "\n",
    "**Race condition:**\n",
    "A race condition is a situation where the behavior of a program depends on the order in which threads execute, and this order is unpredictable. Race conditions can occur when multiple threads access a shared resource, such as a variable or file, without proper synchronization. For example, Thread A may read the value of a shared variable, modify it, and write it back, while Thread B does the same thing. If the order in which the threads execute is not predictable, the final value of the shared variable may be different from what either thread expected."
   ]
  }
 ],
 "metadata": {
  "kernelspec": {
   "display_name": "Python 3 (ipykernel)",
   "language": "python",
   "name": "python3"
  },
  "language_info": {
   "codemirror_mode": {
    "name": "ipython",
    "version": 3
   },
   "file_extension": ".py",
   "mimetype": "text/x-python",
   "name": "python",
   "nbconvert_exporter": "python",
   "pygments_lexer": "ipython3",
   "version": "3.9.13"
  }
 },
 "nbformat": 4,
 "nbformat_minor": 5
}
